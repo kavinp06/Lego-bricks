{
 "cells": [
  {
   "cell_type": "code",
   "execution_count": 1,
   "metadata": {
    "tags": []
   },
   "outputs": [],
   "source": [
    "import numpy as np\n",
    "import pandas as pd\n",
    "from os.path import join\n",
    "from sklearn.model_selection import train_test_split\n",
    "from tensorflow.python import keras\n",
    "from tensorflow.python.keras.models import Sequential\n",
    "from tensorflow.python.keras.layers import Dense, Flatten, Conv2D, Dropout,BatchNormalization,Activation,Dropout,MaxPool2D\n",
    "from tensorflow.keras.preprocessing.image import ImageDataGenerator\n",
    "from tensorflow.python.keras.preprocessing.image import load_img, img_to_array\n",
    "from tensorflow.keras.regularizers import l2\n",
    "import glob\n",
    "from IPython.display import Image, display\n",
    "import matplotlib.pyplot as plt\n",
    "from tensorflow import keras\n",
    "%matplotlib inline"
   ]
  },
  {
   "cell_type": "code",
   "execution_count": 2,
   "metadata": {},
   "outputs": [],
   "source": [
    "img_dir='./question_1_dataset/train/'"
   ]
  },
  {
   "cell_type": "code",
   "execution_count": 3,
   "metadata": {},
   "outputs": [
    {
     "output_type": "execute_result",
     "data": {
      "text/plain": "4465"
     },
     "metadata": {},
     "execution_count": 3
    }
   ],
   "source": [
    "total_imgs=len(glob.glob(img_dir+'/*.png'))\n",
    "total_imgs"
   ]
  },
  {
   "cell_type": "code",
   "execution_count": 4,
   "metadata": {},
   "outputs": [
    {
     "output_type": "execute_result",
     "data": {
      "text/plain": "4465"
     },
     "metadata": {},
     "execution_count": 4
    }
   ],
   "source": [
    "fnames=['{}.png'.format(i) for i in range(1,total_imgs+1)]\n",
    "len(fnames)"
   ]
  },
  {
   "cell_type": "code",
   "execution_count": 5,
   "metadata": {},
   "outputs": [],
   "source": [
    "img_paths=[join(img_dir,filename) for filename in fnames]"
   ]
  },
  {
   "cell_type": "code",
   "execution_count": 6,
   "metadata": {},
   "outputs": [],
   "source": [
    "imgs=[load_img(img_path,target_size=(100,100)) for img_path in img_paths]"
   ]
  },
  {
   "cell_type": "code",
   "execution_count": 7,
   "metadata": {},
   "outputs": [
    {
     "output_type": "execute_result",
     "data": {
      "text/plain": "4465"
     },
     "metadata": {},
     "execution_count": 7
    }
   ],
   "source": [
    "len(imgs)"
   ]
  },
  {
   "cell_type": "code",
   "execution_count": 8,
   "metadata": {},
   "outputs": [],
   "source": [
    "img_array = np.array([img_to_array(img) for img in imgs])\n",
    "img_array=img_array/255"
   ]
  },
  {
   "cell_type": "code",
   "execution_count": 9,
   "metadata": {},
   "outputs": [
    {
     "output_type": "execute_result",
     "data": {
      "text/plain": "(4465, 100, 100, 3)"
     },
     "metadata": {},
     "execution_count": 9
    }
   ],
   "source": [
    "img_array.shape"
   ]
  },
  {
   "cell_type": "code",
   "execution_count": 10,
   "metadata": {},
   "outputs": [
    {
     "output_type": "display_data",
     "data": {
      "image/png": "[encoded data removed]",
      "text/plain": "<IPython.core.display.Image object>"
     },
     "metadata": {}
    }
   ],
   "source": [
    "display(Image(img_paths[0]))"
   ]
  },
  {
   "cell_type": "code",
   "execution_count": 11,
   "metadata": {},
   "outputs": [
    {
     "output_type": "execute_result",
     "data": {
      "text/plain": "<matplotlib.image.AxesImage at 0x21ca13b3c08>"
     },
     "metadata": {},
     "execution_count": 11
    },
    {
     "output_type": "display_data",
     "data": {
      "text/plain": "<Figure size 432x288 with 1 Axes>",
      "image/svg+xml": "<?xml version=\"1.0\" encoding=\"utf-8\" standalone=\"no\"?>\r\n<!DOCTYPE svg PUBLIC \"-//W3C//DTD SVG 1.1//EN\"\r\n  \"http://www.w3.org/Graphics/SVG/1.1/DTD/svg11.dtd\">\r\n<!-- Created with matplotlib (https://matplotlib.org/) -->\r\n<svg height=\"251.230144pt\" version=\"1.1\" viewBox=\"0 0 251.565 251.230144\" width=\"251.565pt\" xmlns=\"http://www.w3.org/2000/svg\" xmlns:xlink=\"http://www.w3.org/1999/xlink\">\r\n <metadata>\r\n  <rdf:RDF xmlns:cc=\"http://creativecommons.org/ns#\" xmlns:dc=\"http://purl.org/dc/elements/1.1/\" xmlns:rdf=\"http://www.w3.org/1999/02/22-rdf-syntax-ns#\">\r\n   <cc:Work>\r\n    <dc:type rdf:resource=\"http://purl.org/dc/dcmitype/StillImage\"/>\r\n    <dc:date>2020-08-26T21:04:32.745886</dc:date>\r\n    <dc:format>image/svg+xml</dc:format>\r\n    <dc:creator>\r\n     <cc:Agent>\r\n      <dc:title>Matplotlib v3.3.1, https://matplotlib.org/</dc:title>\r\n     </cc:Agent>\r\n    </dc:creator>\r\n   </cc:Work>\r\n  </rdf:RDF>\r\n </metadata>\r\n <defs>\r\n  <style type=\"text/css\">*{stroke-linecap:butt;stroke-linejoin:round;}</style>\r\n </defs>\r\n <g id=\"figure_1\">\r\n  <g id=\"patch_1\">\r\n   <path d=\"M 0 251.230144 \r\nL 251.565 251.230144 \r\nL 251.565 0 \r\nL 0 0 \r\nz\r\n\" style=\"fill:none;\"/>\r\n  </g>\r\n  <g id=\"axes_1\">\r\n   <g id=\"patch_2\">\r\n    <path d=\"M 26.925 227.352019 \r\nL 244.365 227.352019 \r\nL 244.365 9.912019 \r\nL 26.925 9.912019 \r\nz\r\n\" style=\"fill:#ffffff;\"/>\r\n   </g>\r\n   <g clip-path=\"url(#p031233d719)\">\r\n    <image height=\"218\" id=\"imagee98068df53\" transform=\"scale(1 -1)translate(0 -218)\" width=\"218\" x=\"26.925\" xlink:href=\"data:image/png;base64,\r\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\" y=\"-9.352019\"/>\r\n   </g>\r\n   <g id=\"matplotlib.axis_1\">\r\n    <g id=\"xtick_1\">\r\n     <g id=\"line2d_1\">\r\n      <defs>\r\n       <path d=\"M 0 0 \r\nL 0 3.5 \r\n\" id=\"mdc2091986e\" style=\"stroke:#000000;stroke-width:0.8;\"/>\r\n      </defs>\r\n      <g>\r\n       <use style=\"stroke:#000000;stroke-width:0.8;\" x=\"28.0122\" xlink:href=\"#mdc2091986e\" y=\"227.352019\"/>\r\n      </g>\r\n     </g>\r\n     <g id=\"text_1\">\r\n      <!-- 0 -->\r\n      <g transform=\"translate(24.83095 241.950456)scale(0.1 -0.1)\">\r\n       <defs>\r\n        <path d=\"M 31.78125 66.40625 \r\nQ 24.171875 66.40625 20.328125 58.90625 \r\nQ 16.5 51.421875 16.5 36.375 \r\nQ 16.5 21.390625 20.328125 13.890625 \r\nQ 24.171875 6.390625 31.78125 6.390625 \r\nQ 39.453125 6.390625 43.28125 13.890625 \r\nQ 47.125 21.390625 47.125 36.375 \r\nQ 47.125 51.421875 43.28125 58.90625 \r\nQ 39.453125 66.40625 31.78125 66.40625 \r\nz\r\nM 31.78125 74.21875 \r\nQ 44.046875 74.21875 50.515625 64.515625 \r\nQ 56.984375 54.828125 56.984375 36.375 \r\nQ 56.984375 17.96875 50.515625 8.265625 \r\nQ 44.046875 -1.421875 31.78125 -1.421875 \r\nQ 19.53125 -1.421875 13.0625 8.265625 \r\nQ 6.59375 17.96875 6.59375 36.375 \r\nQ 6.59375 54.828125 13.0625 64.515625 \r\nQ 19.53125 74.21875 31.78125 74.21875 \r\nz\r\n\" id=\"DejaVuSans-48\"/>\r\n       </defs>\r\n       <use xlink:href=\"#DejaVuSans-48\"/>\r\n      </g>\r\n     </g>\r\n    </g>\r\n    <g id=\"xtick_2\">\r\n     <g id=\"line2d_2\">\r\n      <g>\r\n       <use style=\"stroke:#000000;stroke-width:0.8;\" x=\"71.5002\" xlink:href=\"#mdc2091986e\" y=\"227.352019\"/>\r\n      </g>\r\n     </g>\r\n     <g id=\"text_2\">\r\n      <!-- 20 -->\r\n      <g transform=\"translate(65.1377 241.950456)scale(0.1 -0.1)\">\r\n       <defs>\r\n        <path d=\"M 19.1875 8.296875 \r\nL 53.609375 8.296875 \r\nL 53.609375 0 \r\nL 7.328125 0 \r\nL 7.328125 8.296875 \r\nQ 12.9375 14.109375 22.625 23.890625 \r\nQ 32.328125 33.6875 34.8125 36.53125 \r\nQ 39.546875 41.84375 41.421875 45.53125 \r\nQ 43.3125 49.21875 43.3125 52.78125 \r\nQ 43.3125 58.59375 39.234375 62.25 \r\nQ 35.15625 65.921875 28.609375 65.921875 \r\nQ 23.96875 65.921875 18.8125 64.3125 \r\nQ 13.671875 62.703125 7.8125 59.421875 \r\nL 7.8125 69.390625 \r\nQ 13.765625 71.78125 18.9375 73 \r\nQ 24.125 74.21875 28.421875 74.21875 \r\nQ 39.75 74.21875 46.484375 68.546875 \r\nQ 53.21875 62.890625 53.21875 53.421875 \r\nQ 53.21875 48.921875 51.53125 44.890625 \r\nQ 49.859375 40.875 45.40625 35.40625 \r\nQ 44.1875 33.984375 37.640625 27.21875 \r\nQ 31.109375 20.453125 19.1875 8.296875 \r\nz\r\n\" id=\"DejaVuSans-50\"/>\r\n       </defs>\r\n       <use xlink:href=\"#DejaVuSans-50\"/>\r\n       <use x=\"63.623047\" xlink:href=\"#DejaVuSans-48\"/>\r\n      </g>\r\n     </g>\r\n    </g>\r\n    <g id=\"xtick_3\">\r\n     <g id=\"line2d_3\">\r\n      <g>\r\n       <use style=\"stroke:#000000;stroke-width:0.8;\" x=\"114.9882\" xlink:href=\"#mdc2091986e\" y=\"227.352019\"/>\r\n      </g>\r\n     </g>\r\n     <g id=\"text_3\">\r\n      <!-- 40 -->\r\n      <g transform=\"translate(108.6257 241.950456)scale(0.1 -0.1)\">\r\n       <defs>\r\n        <path d=\"M 37.796875 64.3125 \r\nL 12.890625 25.390625 \r\nL 37.796875 25.390625 \r\nz\r\nM 35.203125 72.90625 \r\nL 47.609375 72.90625 \r\nL 47.609375 25.390625 \r\nL 58.015625 25.390625 \r\nL 58.015625 17.1875 \r\nL 47.609375 17.1875 \r\nL 47.609375 0 \r\nL 37.796875 0 \r\nL 37.796875 17.1875 \r\nL 4.890625 17.1875 \r\nL 4.890625 26.703125 \r\nz\r\n\" id=\"DejaVuSans-52\"/>\r\n       </defs>\r\n       <use xlink:href=\"#DejaVuSans-52\"/>\r\n       <use x=\"63.623047\" xlink:href=\"#DejaVuSans-48\"/>\r\n      </g>\r\n     </g>\r\n    </g>\r\n    <g id=\"xtick_4\">\r\n     <g id=\"line2d_4\">\r\n      <g>\r\n       <use style=\"stroke:#000000;stroke-width:0.8;\" x=\"158.4762\" xlink:href=\"#mdc2091986e\" y=\"227.352019\"/>\r\n      </g>\r\n     </g>\r\n     <g id=\"text_4\">\r\n      <!-- 60 -->\r\n      <g transform=\"translate(152.1137 241.950456)scale(0.1 -0.1)\">\r\n       <defs>\r\n        <path d=\"M 33.015625 40.375 \r\nQ 26.375 40.375 22.484375 35.828125 \r\nQ 18.609375 31.296875 18.609375 23.390625 \r\nQ 18.609375 15.53125 22.484375 10.953125 \r\nQ 26.375 6.390625 33.015625 6.390625 \r\nQ 39.65625 6.390625 43.53125 10.953125 \r\nQ 47.40625 15.53125 47.40625 23.390625 \r\nQ 47.40625 31.296875 43.53125 35.828125 \r\nQ 39.65625 40.375 33.015625 40.375 \r\nz\r\nM 52.59375 71.296875 \r\nL 52.59375 62.3125 \r\nQ 48.875 64.0625 45.09375 64.984375 \r\nQ 41.3125 65.921875 37.59375 65.921875 \r\nQ 27.828125 65.921875 22.671875 59.328125 \r\nQ 17.53125 52.734375 16.796875 39.40625 \r\nQ 19.671875 43.65625 24.015625 45.921875 \r\nQ 28.375 48.1875 33.59375 48.1875 \r\nQ 44.578125 48.1875 50.953125 41.515625 \r\nQ 57.328125 34.859375 57.328125 23.390625 \r\nQ 57.328125 12.15625 50.6875 5.359375 \r\nQ 44.046875 -1.421875 33.015625 -1.421875 \r\nQ 20.359375 -1.421875 13.671875 8.265625 \r\nQ 6.984375 17.96875 6.984375 36.375 \r\nQ 6.984375 53.65625 15.1875 63.9375 \r\nQ 23.390625 74.21875 37.203125 74.21875 \r\nQ 40.921875 74.21875 44.703125 73.484375 \r\nQ 48.484375 72.75 52.59375 71.296875 \r\nz\r\n\" id=\"DejaVuSans-54\"/>\r\n       </defs>\r\n       <use xlink:href=\"#DejaVuSans-54\"/>\r\n       <use x=\"63.623047\" xlink:href=\"#DejaVuSans-48\"/>\r\n      </g>\r\n     </g>\r\n    </g>\r\n    <g id=\"xtick_5\">\r\n     <g id=\"line2d_5\">\r\n      <g>\r\n       <use style=\"stroke:#000000;stroke-width:0.8;\" x=\"201.9642\" xlink:href=\"#mdc2091986e\" y=\"227.352019\"/>\r\n      </g>\r\n     </g>\r\n     <g id=\"text_5\">\r\n      <!-- 80 -->\r\n      <g transform=\"translate(195.6017 241.950456)scale(0.1 -0.1)\">\r\n       <defs>\r\n        <path d=\"M 31.78125 34.625 \r\nQ 24.75 34.625 20.71875 30.859375 \r\nQ 16.703125 27.09375 16.703125 20.515625 \r\nQ 16.703125 13.921875 20.71875 10.15625 \r\nQ 24.75 6.390625 31.78125 6.390625 \r\nQ 38.8125 6.390625 42.859375 10.171875 \r\nQ 46.921875 13.96875 46.921875 20.515625 \r\nQ 46.921875 27.09375 42.890625 30.859375 \r\nQ 38.875 34.625 31.78125 34.625 \r\nz\r\nM 21.921875 38.8125 \r\nQ 15.578125 40.375 12.03125 44.71875 \r\nQ 8.5 49.078125 8.5 55.328125 \r\nQ 8.5 64.0625 14.71875 69.140625 \r\nQ 20.953125 74.21875 31.78125 74.21875 \r\nQ 42.671875 74.21875 48.875 69.140625 \r\nQ 55.078125 64.0625 55.078125 55.328125 \r\nQ 55.078125 49.078125 51.53125 44.71875 \r\nQ 48 40.375 41.703125 38.8125 \r\nQ 48.828125 37.15625 52.796875 32.3125 \r\nQ 56.78125 27.484375 56.78125 20.515625 \r\nQ 56.78125 9.90625 50.3125 4.234375 \r\nQ 43.84375 -1.421875 31.78125 -1.421875 \r\nQ 19.734375 -1.421875 13.25 4.234375 \r\nQ 6.78125 9.90625 6.78125 20.515625 \r\nQ 6.78125 27.484375 10.78125 32.3125 \r\nQ 14.796875 37.15625 21.921875 38.8125 \r\nz\r\nM 18.3125 54.390625 \r\nQ 18.3125 48.734375 21.84375 45.5625 \r\nQ 25.390625 42.390625 31.78125 42.390625 \r\nQ 38.140625 42.390625 41.71875 45.5625 \r\nQ 45.3125 48.734375 45.3125 54.390625 \r\nQ 45.3125 60.0625 41.71875 63.234375 \r\nQ 38.140625 66.40625 31.78125 66.40625 \r\nQ 25.390625 66.40625 21.84375 63.234375 \r\nQ 18.3125 60.0625 18.3125 54.390625 \r\nz\r\n\" id=\"DejaVuSans-56\"/>\r\n       </defs>\r\n       <use xlink:href=\"#DejaVuSans-56\"/>\r\n       <use x=\"63.623047\" xlink:href=\"#DejaVuSans-48\"/>\r\n      </g>\r\n     </g>\r\n    </g>\r\n   </g>\r\n   <g id=\"matplotlib.axis_2\">\r\n    <g id=\"ytick_1\">\r\n     <g id=\"line2d_6\">\r\n      <defs>\r\n       <path d=\"M 0 0 \r\nL -3.5 0 \r\n\" id=\"m5faabf2813\" style=\"stroke:#000000;stroke-width:0.8;\"/>\r\n      </defs>\r\n      <g>\r\n       <use style=\"stroke:#000000;stroke-width:0.8;\" x=\"26.925\" xlink:href=\"#m5faabf2813\" y=\"10.999219\"/>\r\n      </g>\r\n     </g>\r\n     <g id=\"text_6\">\r\n      <!-- 0 -->\r\n      <g transform=\"translate(13.5625 14.798437)scale(0.1 -0.1)\">\r\n       <use xlink:href=\"#DejaVuSans-48\"/>\r\n      </g>\r\n     </g>\r\n    </g>\r\n    <g id=\"ytick_2\">\r\n     <g id=\"line2d_7\">\r\n      <g>\r\n       <use style=\"stroke:#000000;stroke-width:0.8;\" x=\"26.925\" xlink:href=\"#m5faabf2813\" y=\"54.487219\"/>\r\n      </g>\r\n     </g>\r\n     <g id=\"text_7\">\r\n      <!-- 20 -->\r\n      <g transform=\"translate(7.2 58.286437)scale(0.1 -0.1)\">\r\n       <use xlink:href=\"#DejaVuSans-50\"/>\r\n       <use x=\"63.623047\" xlink:href=\"#DejaVuSans-48\"/>\r\n      </g>\r\n     </g>\r\n    </g>\r\n    <g id=\"ytick_3\">\r\n     <g id=\"line2d_8\">\r\n      <g>\r\n       <use style=\"stroke:#000000;stroke-width:0.8;\" x=\"26.925\" xlink:href=\"#m5faabf2813\" y=\"97.975219\"/>\r\n      </g>\r\n     </g>\r\n     <g id=\"text_8\">\r\n      <!-- 40 -->\r\n      <g transform=\"translate(7.2 101.774437)scale(0.1 -0.1)\">\r\n       <use xlink:href=\"#DejaVuSans-52\"/>\r\n       <use x=\"63.623047\" xlink:href=\"#DejaVuSans-48\"/>\r\n      </g>\r\n     </g>\r\n    </g>\r\n    <g id=\"ytick_4\">\r\n     <g id=\"line2d_9\">\r\n      <g>\r\n       <use style=\"stroke:#000000;stroke-width:0.8;\" x=\"26.925\" xlink:href=\"#m5faabf2813\" y=\"141.463219\"/>\r\n      </g>\r\n     </g>\r\n     <g id=\"text_9\">\r\n      <!-- 60 -->\r\n      <g transform=\"translate(7.2 145.262437)scale(0.1 -0.1)\">\r\n       <use xlink:href=\"#DejaVuSans-54\"/>\r\n       <use x=\"63.623047\" xlink:href=\"#DejaVuSans-48\"/>\r\n      </g>\r\n     </g>\r\n    </g>\r\n    <g id=\"ytick_5\">\r\n     <g id=\"line2d_10\">\r\n      <g>\r\n       <use style=\"stroke:#000000;stroke-width:0.8;\" x=\"26.925\" xlink:href=\"#m5faabf2813\" y=\"184.951219\"/>\r\n      </g>\r\n     </g>\r\n     <g id=\"text_10\">\r\n      <!-- 80 -->\r\n      <g transform=\"translate(7.2 188.750437)scale(0.1 -0.1)\">\r\n       <use xlink:href=\"#DejaVuSans-56\"/>\r\n       <use x=\"63.623047\" xlink:href=\"#DejaVuSans-48\"/>\r\n      </g>\r\n     </g>\r\n    </g>\r\n   </g>\r\n   <g id=\"patch_3\">\r\n    <path d=\"M 26.925 227.352019 \r\nL 26.925 9.912019 \r\n\" style=\"fill:none;stroke:#000000;stroke-linecap:square;stroke-linejoin:miter;stroke-width:0.8;\"/>\r\n   </g>\r\n   <g id=\"patch_4\">\r\n    <path d=\"M 244.365 227.352019 \r\nL 244.365 9.912019 \r\n\" style=\"fill:none;stroke:#000000;stroke-linecap:square;stroke-linejoin:miter;stroke-width:0.8;\"/>\r\n   </g>\r\n   <g id=\"patch_5\">\r\n    <path d=\"M 26.925 227.352019 \r\nL 244.365 227.352019 \r\n\" style=\"fill:none;stroke:#000000;stroke-linecap:square;stroke-linejoin:miter;stroke-width:0.8;\"/>\r\n   </g>\r\n   <g id=\"patch_6\">\r\n    <path d=\"M 26.925 9.912019 \r\nL 244.365 9.912019 \r\n\" style=\"fill:none;stroke:#000000;stroke-linecap:square;stroke-linejoin:miter;stroke-width:0.8;\"/>\r\n   </g>\r\n  </g>\r\n </g>\r\n <defs>\r\n  <clipPath id=\"p031233d719\">\r\n   <rect height=\"217.44\" width=\"217.44\" x=\"26.925\" y=\"9.912019\"/>\r\n  </clipPath>\r\n </defs>\r\n</svg>\r\n",
      "image/png": "[encoded data removed]"
     },
     "metadata": {
      "needs_background": "light"
     }
    }
   ],
   "source": [
    "plt.imshow(img_array[0])"
   ]
  },
  {
   "cell_type": "code",
   "execution_count": 12,
   "metadata": {},
   "outputs": [],
   "source": [
    "from tensorflow.keras.utils import to_categorical\n",
    "x=img_array\n",
    "df=pd.read_csv('./question_1_dataset/train.csv')\n",
    "y_out=np.array(df['category'])\n",
    "y=to_categorical(y_out)\n",
    "y=y[:,1:]\n",
    "\n",
    "x_train,x_cv,y_train,y_cv=train_test_split(x,y,test_size=0.2,random_state=4)\n"
   ]
  },
  {
   "cell_type": "code",
   "execution_count": 13,
   "metadata": {},
   "outputs": [],
   "source": [
    "from sklearn.metrics import f1_score\n",
    "def score(model,x_cv,y_cv):\n",
    "  yhat=model.predict(x_cv)\n",
    "  yhat=yhat.argmax(axis=1)+1\n",
    "  y_cv=y_cv.argmax(axis=1)+1\n",
    "  f1s=f1_score(y_cv, yhat, average='weighted')\n",
    "  return f1s \n"
   ]
  },
  {
   "cell_type": "code",
   "execution_count": 14,
   "metadata": {},
   "outputs": [],
   "source": [
    "def model_normal():\n",
    "  model=Sequential()\n",
    "  model.add(Conv2D(10,kernel_size=3,activation='relu',input_shape=(100,100,3)))\n",
    "  model.add(MaxPool2D(pool_size=(2,2),strides=2))\n",
    "  model.add(Conv2D(10,kernel_size=3,activation='relu'))\n",
    "  #model.add(Conv2D(20,kernel_size=3,activation='relu'))\n",
    "  model.add(Flatten())\n",
    "  model.add(Dense(50,activation='relu'))\n",
    "  model.add(Dense(16,activation='softmax'))\n",
    "  return model\n"
   ]
  },
  {
   "cell_type": "code",
   "execution_count": 15,
   "metadata": {
    "tags": []
   },
   "outputs": [
    {
     "output_type": "stream",
     "name": "stdout",
     "text": "Epoch 1/20\n58/58 [==============================] - 10s 172ms/step - loss: 1.5743 - accuracy: 0.4830 - val_loss: 1.2416 - val_accuracy: 0.6140\nEpoch 2/20\n58/58 [==============================] - 9s 154ms/step - loss: 0.6859 - accuracy: 0.7767 - val_loss: 0.8600 - val_accuracy: 0.7147\nEpoch 3/20\n58/58 [==============================] - 8s 146ms/step - loss: 0.4315 - accuracy: 0.8533 - val_loss: 0.7696 - val_accuracy: 0.7748\nEpoch 4/20\n58/58 [==============================] - 9s 150ms/step - loss: 0.2790 - accuracy: 0.9065 - val_loss: 0.5447 - val_accuracy: 0.7986\nEpoch 5/20\n58/58 [==============================] - 10s 173ms/step - loss: 0.2013 - accuracy: 0.9258 - val_loss: 0.5251 - val_accuracy: 0.8084\nEpoch 6/20\n58/58 [==============================] - 10s 181ms/step - loss: 0.1476 - accuracy: 0.9503 - val_loss: 0.5749 - val_accuracy: 0.8084\nEpoch 7/20\n58/58 [==============================] - 11s 189ms/step - loss: 0.1181 - accuracy: 0.9636 - val_loss: 0.6587 - val_accuracy: 0.8084\nEpoch 8/20\n58/58 [==============================] - 12s 209ms/step - loss: 0.1052 - accuracy: 0.9657 - val_loss: 0.6078 - val_accuracy: 0.8140\nEpoch 9/20\n58/58 [==============================] - 12s 208ms/step - loss: 0.0842 - accuracy: 0.9702 - val_loss: 0.5741 - val_accuracy: 0.8154\nEpoch 10/20\n58/58 [==============================] - 13s 216ms/step - loss: 0.0571 - accuracy: 0.9786 - val_loss: 0.5643 - val_accuracy: 0.8252\nEpoch 11/20\n58/58 [==============================] - 12s 201ms/step - loss: 0.0595 - accuracy: 0.9786 - val_loss: 0.6323 - val_accuracy: 0.8042\nEpoch 12/20\n58/58 [==============================] - 11s 196ms/step - loss: 0.0481 - accuracy: 0.9842 - val_loss: 0.6139 - val_accuracy: 0.8336\nEpoch 13/20\n58/58 [==============================] - 12s 200ms/step - loss: 0.0591 - accuracy: 0.9783 - val_loss: 0.8374 - val_accuracy: 0.8140\nEpoch 14/20\n58/58 [==============================] - 12s 206ms/step - loss: 0.0496 - accuracy: 0.9818 - val_loss: 0.6337 - val_accuracy: 0.8224\nEpoch 15/20\n58/58 [==============================] - 11s 193ms/step - loss: 0.0291 - accuracy: 0.9909 - val_loss: 0.8995 - val_accuracy: 0.8000\nEpoch 16/20\n58/58 [==============================] - 11s 197ms/step - loss: 0.0338 - accuracy: 0.9877 - val_loss: 0.7379 - val_accuracy: 0.8182\nEpoch 17/20\n58/58 [==============================] - 11s 196ms/step - loss: 0.0288 - accuracy: 0.9888 - val_loss: 0.6745 - val_accuracy: 0.8210\nEpoch 18/20\n58/58 [==============================] - 11s 194ms/step - loss: 0.0285 - accuracy: 0.9895 - val_loss: 0.7521 - val_accuracy: 0.8154\nEpoch 19/20\n58/58 [==============================] - 11s 193ms/step - loss: 0.0217 - accuracy: 0.9937 - val_loss: 0.6850 - val_accuracy: 0.8252\nEpoch 20/20\n58/58 [==============================] - 11s 195ms/step - loss: 0.0183 - accuracy: 0.9930 - val_loss: 0.7204 - val_accuracy: 0.8182\n"
    },
    {
     "output_type": "execute_result",
     "data": {
      "text/plain": "<tensorflow.python.keras.callbacks.History at 0x21c62034c88>"
     },
     "metadata": {},
     "execution_count": 15
    }
   ],
   "source": [
    "#without any regularization\n",
    "model_normal_=model_normal()\n",
    "model_normal_.compile(loss='categorical_crossentropy',optimizer='adam',metrics=['accuracy'])\n",
    "model_normal_.fit(x_train,y_train,batch_size=50,epochs=20,validation_split=0.2)"
   ]
  },
  {
   "cell_type": "code",
   "execution_count": 16,
   "metadata": {},
   "outputs": [
    {
     "output_type": "execute_result",
     "data": {
      "text/plain": "0.874587471264066"
     },
     "metadata": {},
     "execution_count": 16
    }
   ],
   "source": [
    "score_normal=score(model_normal_,x_cv,y_cv)\n",
    "score_normal"
   ]
  },
  {
   "cell_type": "code",
   "execution_count": 20,
   "metadata": {},
   "outputs": [],
   "source": [
    "def model_bn():\n",
    "  model=Sequential()\n",
    "  model.add(Conv2D(10,kernel_size=3,activation=None,input_shape=(100,100,3)))\n",
    "  model.add(BatchNormalization())\n",
    "  model.add(Activation('relu'))\n",
    "  model.add(MaxPool2D(strides=2))\n",
    "  model.add(Conv2D(10,kernel_size=3,activation=None))\n",
    "  #model.add(Conv2D(20,kernel_size=3,activation='relu'))\n",
    "  model.add(BatchNormalization())\n",
    "  model.add(Activation('relu'))\n",
    "  model.add(MaxPool2D(strides=2))\n",
    "  model.add(Flatten())\n",
    "  model.add(Dense(50,activation='relu'))\n",
    "  model.add(Dense(16,activation='softmax'))\n",
    "  return model\n"
   ]
  },
  {
   "cell_type": "code",
   "execution_count": 21,
   "metadata": {
    "tags": []
   },
   "outputs": [
    {
     "output_type": "stream",
     "name": "stdout",
     "text": "Epoch 1/20\n58/58 [==============================] - 25s 433ms/step - loss: 1.6567 - accuracy: 0.4764 - val_loss: 2.3375 - val_accuracy: 0.4895\nEpoch 2/20\n58/58 [==============================] - 24s 407ms/step - loss: 0.6312 - accuracy: 0.7966 - val_loss: 2.2098 - val_accuracy: 0.5315\nEpoch 3/20\n58/58 [==============================] - 23s 392ms/step - loss: 0.4063 - accuracy: 0.8638 - val_loss: 1.9227 - val_accuracy: 0.6336\nEpoch 4/20\n58/58 [==============================] - 23s 400ms/step - loss: 0.2671 - accuracy: 0.9118 - val_loss: 1.6028 - val_accuracy: 0.5455\nEpoch 5/20\n58/58 [==============================] - 28s 479ms/step - loss: 0.2203 - accuracy: 0.9342 - val_loss: 1.2406 - val_accuracy: 0.5748\nEpoch 6/20\n58/58 [==============================] - 24s 406ms/step - loss: 0.2283 - accuracy: 0.9237 - val_loss: 1.0316 - val_accuracy: 0.6434\nEpoch 7/20\n58/58 [==============================] - 23s 395ms/step - loss: 0.1327 - accuracy: 0.9576 - val_loss: 0.8284 - val_accuracy: 0.6937\nEpoch 8/20\n58/58 [==============================] - 23s 391ms/step - loss: 0.1034 - accuracy: 0.9632 - val_loss: 0.5470 - val_accuracy: 0.8252\nEpoch 9/20\n58/58 [==============================] - 22s 388ms/step - loss: 0.1050 - accuracy: 0.9622 - val_loss: 0.5033 - val_accuracy: 0.8182\nEpoch 10/20\n58/58 [==============================] - 23s 401ms/step - loss: 0.0658 - accuracy: 0.9786 - val_loss: 0.4645 - val_accuracy: 0.8392\nEpoch 11/20\n58/58 [==============================] - 23s 391ms/step - loss: 0.0539 - accuracy: 0.9818 - val_loss: 0.5501 - val_accuracy: 0.8336\nEpoch 12/20\n58/58 [==============================] - 25s 429ms/step - loss: 0.0498 - accuracy: 0.9818 - val_loss: 0.5502 - val_accuracy: 0.8196\nEpoch 13/20\n58/58 [==============================] - 24s 421ms/step - loss: 0.0405 - accuracy: 0.9874 - val_loss: 0.5388 - val_accuracy: 0.8406\nEpoch 14/20\n58/58 [==============================] - 24s 409ms/step - loss: 0.0392 - accuracy: 0.9902 - val_loss: 0.5758 - val_accuracy: 0.8252\nEpoch 15/20\n58/58 [==============================] - 23s 396ms/step - loss: 0.0296 - accuracy: 0.9940 - val_loss: 0.6478 - val_accuracy: 0.8070\nEpoch 16/20\n58/58 [==============================] - 24s 418ms/step - loss: 0.0284 - accuracy: 0.9898 - val_loss: 0.6158 - val_accuracy: 0.8238\nEpoch 17/20\n58/58 [==============================] - 25s 434ms/step - loss: 0.0222 - accuracy: 0.9930 - val_loss: 0.6103 - val_accuracy: 0.8308\nEpoch 18/20\n58/58 [==============================] - 25s 424ms/step - loss: 0.0156 - accuracy: 0.9972 - val_loss: 0.6955 - val_accuracy: 0.8210\nEpoch 19/20\n58/58 [==============================] - 24s 415ms/step - loss: 0.0155 - accuracy: 0.9968 - val_loss: 0.6922 - val_accuracy: 0.8098\nEpoch 20/20\n58/58 [==============================] - 26s 456ms/step - loss: 0.0141 - accuracy: 0.9968 - val_loss: 0.6900 - val_accuracy: 0.8294\n"
    },
    {
     "output_type": "execute_result",
     "data": {
      "text/plain": "<tensorflow.python.keras.callbacks.History at 0x21cc87ba4c8>"
     },
     "metadata": {},
     "execution_count": 21
    }
   ],
   "source": [
    "model_bn_=model_bn()\n",
    "model_bn_.compile(loss='categorical_crossentropy',optimizer='adam',metrics=['accuracy'])\n",
    "model_bn_.fit(x_train,y_train,batch_size=50,epochs=20,validation_split=0.2)"
   ]
  },
  {
   "cell_type": "code",
   "execution_count": 22,
   "metadata": {},
   "outputs": [
    {
     "output_type": "execute_result",
     "data": {
      "text/plain": "0.8631668285583136"
     },
     "metadata": {},
     "execution_count": 22
    }
   ],
   "source": [
    "score_bn=score(model_bn_, x_cv, y_cv)\n",
    "score_bn"
   ]
  },
  {
   "cell_type": "code",
   "execution_count": 23,
   "metadata": {},
   "outputs": [],
   "source": [
    "def model_dropout():\n",
    "  model=Sequential()\n",
    "  model.add(Conv2D(10,kernel_size=3,activation='relu',input_shape=(100,100,3)))\n",
    "  model.add(MaxPool2D(strides=2))\n",
    "  model.add(Dropout(0.2))\n",
    "  model.add(Conv2D(10,kernel_size=3,activation='relu'))\n",
    "  model.add(MaxPool2D(strides=2))\n",
    "  model.add(Dropout(0.2))\n",
    "  #model.add(Conv2D(20,kernel_size=3,activation='relu'))\n",
    "  model.add(Flatten())\n",
    "  model.add(Dense(50,activation='relu'))\n",
    "  model.add(Dense(16,activation='softmax'))\n",
    "  return model\n"
   ]
  },
  {
   "cell_type": "code",
   "execution_count": 24,
   "metadata": {
    "tags": []
   },
   "outputs": [
    {
     "output_type": "stream",
     "name": "stdout",
     "text": "Epoch 1/20\n58/58 [==============================] - 10s 164ms/step - loss: 1.7162 - accuracy: 0.4200 - val_loss: 1.1316 - val_accuracy: 0.5888\nEpoch 2/20\n58/58 [==============================] - 8s 145ms/step - loss: 0.8145 - accuracy: 0.7140 - val_loss: 0.7636 - val_accuracy: 0.7343\nEpoch 3/20\n58/58 [==============================] - 8s 138ms/step - loss: 0.5740 - accuracy: 0.7949 - val_loss: 0.6326 - val_accuracy: 0.7678\nEpoch 4/20\n58/58 [==============================] - 8s 140ms/step - loss: 0.4537 - accuracy: 0.8411 - val_loss: 0.5934 - val_accuracy: 0.7902\nEpoch 5/20\n58/58 [==============================] - 8s 146ms/step - loss: 0.3651 - accuracy: 0.8691 - val_loss: 0.4929 - val_accuracy: 0.8224\nEpoch 6/20\n58/58 [==============================] - 9s 153ms/step - loss: 0.3149 - accuracy: 0.8848 - val_loss: 0.5812 - val_accuracy: 0.8210\nEpoch 7/20\n58/58 [==============================] - 8s 146ms/step - loss: 0.2845 - accuracy: 0.9030 - val_loss: 0.5018 - val_accuracy: 0.8322\nEpoch 8/20\n58/58 [==============================] - 9s 151ms/step - loss: 0.2750 - accuracy: 0.8925 - val_loss: 0.4602 - val_accuracy: 0.8392\nEpoch 9/20\n58/58 [==============================] - 8s 144ms/step - loss: 0.2435 - accuracy: 0.9079 - val_loss: 0.4813 - val_accuracy: 0.8224\nEpoch 10/20\n58/58 [==============================] - 9s 151ms/step - loss: 0.2542 - accuracy: 0.9076 - val_loss: 0.4997 - val_accuracy: 0.8420\nEpoch 11/20\n58/58 [==============================] - 9s 151ms/step - loss: 0.1888 - accuracy: 0.9352 - val_loss: 0.4291 - val_accuracy: 0.8238\nEpoch 12/20\n58/58 [==============================] - 9s 150ms/step - loss: 0.1924 - accuracy: 0.9338 - val_loss: 0.4178 - val_accuracy: 0.8476\nEpoch 13/20\n58/58 [==============================] - 9s 159ms/step - loss: 0.1580 - accuracy: 0.9370 - val_loss: 0.4264 - val_accuracy: 0.8448\nEpoch 14/20\n58/58 [==============================] - 9s 161ms/step - loss: 0.1280 - accuracy: 0.9517 - val_loss: 0.4212 - val_accuracy: 0.8629\nEpoch 15/20\n58/58 [==============================] - 10s 173ms/step - loss: 0.1435 - accuracy: 0.9475 - val_loss: 0.4424 - val_accuracy: 0.8448\nEpoch 16/20\n58/58 [==============================] - 11s 184ms/step - loss: 0.1335 - accuracy: 0.9485 - val_loss: 0.4667 - val_accuracy: 0.8587\nEpoch 17/20\n58/58 [==============================] - 10s 181ms/step - loss: 0.1186 - accuracy: 0.9520 - val_loss: 0.4349 - val_accuracy: 0.8615\nEpoch 18/20\n58/58 [==============================] - 10s 181ms/step - loss: 0.1076 - accuracy: 0.9545 - val_loss: 0.4347 - val_accuracy: 0.8434\nEpoch 19/20\n58/58 [==============================] - 11s 189ms/step - loss: 0.1080 - accuracy: 0.9569 - val_loss: 0.4446 - val_accuracy: 0.8420\nEpoch 20/20\n58/58 [==============================] - 11s 189ms/step - loss: 0.0998 - accuracy: 0.9608 - val_loss: 0.4487 - val_accuracy: 0.8462\n"
    },
    {
     "output_type": "execute_result",
     "data": {
      "text/plain": "<tensorflow.python.keras.callbacks.History at 0x21cc8bbe3c8>"
     },
     "metadata": {},
     "execution_count": 24
    }
   ],
   "source": [
    "model_dropout_=model_dropout()\n",
    "model_dropout_.compile(loss='categorical_crossentropy',optimizer='adam',metrics=['accuracy'])\n",
    "model_dropout_.fit(x_train,y_train,batch_size=50,epochs=20,validation_split=0.2)"
   ]
  },
  {
   "cell_type": "code",
   "execution_count": 25,
   "metadata": {},
   "outputs": [
    {
     "output_type": "execute_result",
     "data": {
      "text/plain": "0.8857644616998964"
     },
     "metadata": {},
     "execution_count": 25
    }
   ],
   "source": [
    "score_dropout=score(model_dropout_,x_cv,y_cv)\n",
    "score_dropout"
   ]
  },
  {
   "cell_type": "code",
   "execution_count": 26,
   "metadata": {},
   "outputs": [],
   "source": [
    "def model_regu():\n",
    "  model=Sequential()\n",
    "  model.add(Conv2D(10,kernel_size=3,activation='relu',input_shape=(100,100,3),kernel_regularizer=l2(0.1)))\n",
    "  model.add(MaxPool2D(strides=2))\n",
    "  #model.add(Dropout(0.2))\n",
    "  model.add(Conv2D(10,kernel_size=3,activation='relu',kernel_regularizer=l2(0.1)))\n",
    "  model.add(MaxPool2D(strides=2))\n",
    "  #model.add(Dropout(0.2))\n",
    "  #model.add(Conv2D(20,kernel_size=3,activation='relu'))\n",
    "  model.add(Flatten())\n",
    "  model.add(Dense(50,activation='relu'))\n",
    "  model.add(Dense(16,activation='softmax'))\n",
    "  return model\n"
   ]
  },
  {
   "cell_type": "code",
   "execution_count": 27,
   "metadata": {
    "tags": []
   },
   "outputs": [
    {
     "output_type": "stream",
     "name": "stdout",
     "text": "Epoch 1/20\n58/58 [==============================] - 10s 168ms/step - loss: 2.7597 - accuracy: 0.4732 - val_loss: 1.8363 - val_accuracy: 0.6406\nEpoch 2/20\n58/58 [==============================] - 9s 163ms/step - loss: 1.3975 - accuracy: 0.7203 - val_loss: 1.2278 - val_accuracy: 0.7273\nEpoch 3/20\n58/58 [==============================] - 10s 169ms/step - loss: 0.9739 - accuracy: 0.7767 - val_loss: 0.9575 - val_accuracy: 0.7566\nEpoch 4/20\n58/58 [==============================] - 10s 168ms/step - loss: 0.7653 - accuracy: 0.8166 - val_loss: 0.8581 - val_accuracy: 0.7706\nEpoch 5/20\n58/58 [==============================] - 8s 143ms/step - loss: 0.6450 - accuracy: 0.8369 - val_loss: 0.8355 - val_accuracy: 0.7497\nEpoch 6/20\n58/58 [==============================] - 8s 143ms/step - loss: 0.5523 - accuracy: 0.8537 - val_loss: 0.7211 - val_accuracy: 0.8014\nEpoch 7/20\n58/58 [==============================] - 9s 157ms/step - loss: 0.4972 - accuracy: 0.8729 - val_loss: 0.6812 - val_accuracy: 0.8042\nEpoch 8/20\n58/58 [==============================] - 9s 163ms/step - loss: 0.4551 - accuracy: 0.8887 - val_loss: 0.6543 - val_accuracy: 0.8000\nEpoch 9/20\n58/58 [==============================] - 9s 164ms/step - loss: 0.4444 - accuracy: 0.8827 - val_loss: 0.7195 - val_accuracy: 0.7818\nEpoch 10/20\n58/58 [==============================] - 9s 158ms/step - loss: 0.4063 - accuracy: 0.9030 - val_loss: 0.5925 - val_accuracy: 0.8294\nEpoch 11/20\n58/58 [==============================] - 9s 163ms/step - loss: 0.3817 - accuracy: 0.9097 - val_loss: 0.5780 - val_accuracy: 0.8210\nEpoch 12/20\n58/58 [==============================] - 9s 157ms/step - loss: 0.3539 - accuracy: 0.9198 - val_loss: 0.6663 - val_accuracy: 0.8196\nEpoch 13/20\n58/58 [==============================] - 9s 161ms/step - loss: 0.3475 - accuracy: 0.9219 - val_loss: 0.6159 - val_accuracy: 0.8210\nEpoch 14/20\n58/58 [==============================] - 10s 166ms/step - loss: 0.3315 - accuracy: 0.9296 - val_loss: 0.5667 - val_accuracy: 0.8406\nEpoch 15/20\n58/58 [==============================] - 9s 162ms/step - loss: 0.3182 - accuracy: 0.9310 - val_loss: 0.5805 - val_accuracy: 0.8238\nEpoch 16/20\n58/58 [==============================] - 9s 163ms/step - loss: 0.3184 - accuracy: 0.9272 - val_loss: 0.5377 - val_accuracy: 0.8559\nEpoch 17/20\n58/58 [==============================] - 9s 163ms/step - loss: 0.2957 - accuracy: 0.9335 - val_loss: 0.5021 - val_accuracy: 0.8587\nEpoch 18/20\n58/58 [==============================] - 9s 152ms/step - loss: 0.3060 - accuracy: 0.9335 - val_loss: 0.5300 - val_accuracy: 0.8392\nEpoch 19/20\n58/58 [==============================] - 9s 161ms/step - loss: 0.3046 - accuracy: 0.9328 - val_loss: 0.5396 - val_accuracy: 0.8462\nEpoch 20/20\n58/58 [==============================] - 9s 156ms/step - loss: 0.2762 - accuracy: 0.9398 - val_loss: 0.5684 - val_accuracy: 0.8448\n"
    },
    {
     "output_type": "execute_result",
     "data": {
      "text/plain": "<tensorflow.python.keras.callbacks.History at 0x21cc98c2608>"
     },
     "metadata": {},
     "execution_count": 27
    }
   ],
   "source": [
    "model_regu_=model_regu()\n",
    "model_regu_.compile(loss='categorical_crossentropy',optimizer='adam',metrics=['accuracy'])\n",
    "model_regu_.fit(x_train,y_train,batch_size=50,epochs=20,validation_split=0.2)"
   ]
  },
  {
   "cell_type": "code",
   "execution_count": 28,
   "metadata": {},
   "outputs": [
    {
     "output_type": "execute_result",
     "data": {
      "text/plain": "0.8779977373143908"
     },
     "metadata": {},
     "execution_count": 28
    }
   ],
   "source": [
    "score_regu=score(model_regu_,x_cv,y_cv)\n",
    "score_regu"
   ]
  },
  {
   "cell_type": "code",
   "execution_count": 38,
   "metadata": {},
   "outputs": [],
   "source": [
    "def model_final():\n",
    "  model=Sequential()\n",
    "  model.add(Conv2D(10,kernel_size=3,activation='relu',input_shape=(100,100,3)))\n",
    "  #model.add(BatchNormalization())\n",
    "  model.add(Activation('relu'))\n",
    "  model.add(MaxPool2D(strides=2))\n",
    "  model.add(Dropout(0.2))\n",
    "  model.add(Conv2D(10,kernel_size=3,activation=None))\n",
    "  #model.add(Conv2D(20,kernel_size=3,activation='relu'))\n",
    "  #model.add(BatchNormalization())\n",
    "  model.add(Activation('relu'))\n",
    "  model.add(MaxPool2D(strides=2))\n",
    "  model.add(Dropout(0.2))\n",
    "  model.add(Flatten())\n",
    "  model.add(Dense(50,activation='relu'))\n",
    "  model.add(Dense(16,activation='softmax'))\n",
    "  return model\n"
   ]
  },
  {
   "cell_type": "code",
   "execution_count": 39,
   "metadata": {
    "tags": []
   },
   "outputs": [
    {
     "output_type": "stream",
     "name": "stdout",
     "text": "Epoch 1/30\n70/70 [==============================] - 15s 220ms/step - loss: 1.5714 - accuracy: 0.4634 - val_loss: 0.8909 - val_accuracy: 0.7055\nEpoch 2/30\n70/70 [==============================] - 15s 221ms/step - loss: 0.7712 - accuracy: 0.7120 - val_loss: 0.6955 - val_accuracy: 0.7727\nEpoch 3/30\n70/70 [==============================] - 16s 233ms/step - loss: 0.5984 - accuracy: 0.7745 - val_loss: 0.6038 - val_accuracy: 0.7973\nEpoch 4/30\n70/70 [==============================] - 16s 233ms/step - loss: 0.4903 - accuracy: 0.8174 - val_loss: 0.5863 - val_accuracy: 0.7984\nEpoch 5/30\n70/70 [==============================] - 22s 312ms/step - loss: 0.4429 - accuracy: 0.8309 - val_loss: 0.4876 - val_accuracy: 0.8186\nEpoch 6/30\n70/70 [==============================] - 20s 279ms/step - loss: 0.3748 - accuracy: 0.8505 - val_loss: 0.4630 - val_accuracy: 0.8231\nEpoch 7/30\n70/70 [==============================] - 128s 2s/step - loss: 0.3581 - accuracy: 0.8589 - val_loss: 0.5123 - val_accuracy: 0.8163\nEpoch 8/30\n70/70 [==============================] - 19s 269ms/step - loss: 0.3088 - accuracy: 0.8802 - val_loss: 0.3928 - val_accuracy: 0.8555\nEpoch 9/30\n70/70 [==============================] - 14s 196ms/step - loss: 0.2883 - accuracy: 0.8851 - val_loss: 0.3715 - val_accuracy: 0.8578\nEpoch 10/30\n70/70 [==============================] - 17s 245ms/step - loss: 0.2636 - accuracy: 0.8966 - val_loss: 0.4124 - val_accuracy: 0.8387\nEpoch 11/30\n70/70 [==============================] - 18s 264ms/step - loss: 0.2495 - accuracy: 0.9006 - val_loss: 0.3519 - val_accuracy: 0.8701\nEpoch 12/30\n70/70 [==============================] - 19s 271ms/step - loss: 0.2377 - accuracy: 0.9029 - val_loss: 0.3772 - val_accuracy: 0.8623\nEpoch 13/30\n70/70 [==============================] - 19s 267ms/step - loss: 0.2294 - accuracy: 0.9113 - val_loss: 0.2826 - val_accuracy: 0.8880\nEpoch 14/30\n70/70 [==============================] - 18s 262ms/step - loss: 0.1961 - accuracy: 0.9237 - val_loss: 0.2887 - val_accuracy: 0.9048\nEpoch 15/30\n70/70 [==============================] - 18s 251ms/step - loss: 0.2055 - accuracy: 0.9171 - val_loss: 0.3412 - val_accuracy: 0.8802\nEpoch 16/30\n70/70 [==============================] - 19s 264ms/step - loss: 0.1862 - accuracy: 0.9217 - val_loss: 0.2776 - val_accuracy: 0.8981\nEpoch 17/30\n70/70 [==============================] - 19s 277ms/step - loss: 0.1709 - accuracy: 0.9320 - val_loss: 0.2677 - val_accuracy: 0.8992\nEpoch 18/30\n70/70 [==============================] - 17s 237ms/step - loss: 0.1854 - accuracy: 0.9257 - val_loss: 0.2636 - val_accuracy: 0.8959\nEpoch 19/30\n70/70 [==============================] - 14s 201ms/step - loss: 0.1860 - accuracy: 0.9277 - val_loss: 0.2904 - val_accuracy: 0.8869\nEpoch 20/30\n70/70 [==============================] - 14s 201ms/step - loss: 0.1724 - accuracy: 0.9300 - val_loss: 0.2276 - val_accuracy: 0.9093\nEpoch 21/30\n70/70 [==============================] - 13s 185ms/step - loss: 0.1523 - accuracy: 0.9355 - val_loss: 0.2185 - val_accuracy: 0.9015\nEpoch 22/30\n70/70 [==============================] - 13s 186ms/step - loss: 0.1469 - accuracy: 0.9384 - val_loss: 0.2503 - val_accuracy: 0.9059\nEpoch 23/30\n70/70 [==============================] - 13s 184ms/step - loss: 0.1394 - accuracy: 0.9412 - val_loss: 0.2112 - val_accuracy: 0.9194\nEpoch 24/30\n70/70 [==============================] - 13s 187ms/step - loss: 0.1378 - accuracy: 0.9387 - val_loss: 0.2403 - val_accuracy: 0.9003\nEpoch 25/30\n70/70 [==============================] - 14s 195ms/step - loss: 0.1299 - accuracy: 0.9490 - val_loss: 0.2455 - val_accuracy: 0.8959\nEpoch 26/30\n70/70 [==============================] - 13s 190ms/step - loss: 0.1266 - accuracy: 0.9427 - val_loss: 0.2084 - val_accuracy: 0.9171\nEpoch 27/30\n70/70 [==============================] - 14s 199ms/step - loss: 0.1190 - accuracy: 0.9510 - val_loss: 0.2277 - val_accuracy: 0.9026\nEpoch 28/30\n70/70 [==============================] - 15s 208ms/step - loss: 0.1229 - accuracy: 0.9456 - val_loss: 0.1885 - val_accuracy: 0.9216\nEpoch 29/30\n70/70 [==============================] - 14s 199ms/step - loss: 0.1145 - accuracy: 0.9505 - val_loss: 0.1927 - val_accuracy: 0.9149\nEpoch 30/30\n70/70 [==============================] - 15s 218ms/step - loss: 0.1030 - accuracy: 0.9551 - val_loss: 0.2269 - val_accuracy: 0.9115\n"
    },
    {
     "output_type": "execute_result",
     "data": {
      "text/plain": "<tensorflow.python.keras.callbacks.History at 0x21ccc245f08>"
     },
     "metadata": {},
     "execution_count": 39
    }
   ],
   "source": [
    "#with augmentation and dropouts\n",
    "model_final_=model_final()\n",
    "model_final_.compile(loss='categorical_crossentropy',optimizer='adam',metrics=['accuracy'])\n",
    "model_final_.fit(train_generator,steps_per_epoch=70,epochs=30,validation_data=(x_cv,y_cv))\n"
   ]
  },
  {
   "cell_type": "code",
   "execution_count": 40,
   "metadata": {},
   "outputs": [
    {
     "output_type": "execute_result",
     "data": {
      "text/plain": "0.9115595765650053"
     },
     "metadata": {},
     "execution_count": 40
    }
   ],
   "source": [
    "score_final=score(model_final_,x_cv,y_cv)\n",
    "score_final"
   ]
  },
  {
   "cell_type": "code",
   "execution_count": 18,
   "metadata": {
    "tags": []
   },
   "outputs": [
    {
     "output_type": "stream",
     "name": "stdout",
     "text": "WARNING:tensorflow:From <ipython-input-18-078a3a5de32a>:5: Model.fit_generator (from tensorflow.python.keras.engine.training) is deprecated and will be removed in a future version.\nInstructions for updating:\nPlease use Model.fit, which supports generators.\nEpoch 1/20\n70/70 [==============================] - 12s 176ms/step - loss: 1.3088 - accuracy: 0.5611 - val_loss: 0.5972 - val_accuracy: 0.7984\nEpoch 2/20\n70/70 [==============================] - 11s 161ms/step - loss: 0.4768 - accuracy: 0.8321 - val_loss: 0.4515 - val_accuracy: 0.8376\nEpoch 3/20\n70/70 [==============================] - 11s 162ms/step - loss: 0.3467 - accuracy: 0.8736 - val_loss: 0.3769 - val_accuracy: 0.8589\nEpoch 4/20\n70/70 [==============================] - 11s 158ms/step - loss: 0.2732 - accuracy: 0.8975 - val_loss: 0.3370 - val_accuracy: 0.8667\nEpoch 5/20\n70/70 [==============================] - 11s 160ms/step - loss: 0.2107 - accuracy: 0.9211 - val_loss: 0.2693 - val_accuracy: 0.8936\nEpoch 6/20\n70/70 [==============================] - 11s 158ms/step - loss: 0.1798 - accuracy: 0.9283 - val_loss: 0.2755 - val_accuracy: 0.8981\nEpoch 7/20\n70/70 [==============================] - 11s 158ms/step - loss: 0.1526 - accuracy: 0.9389 - val_loss: 0.2593 - val_accuracy: 0.8959\nEpoch 8/20\n70/70 [==============================] - 11s 159ms/step - loss: 0.1278 - accuracy: 0.9490 - val_loss: 0.2336 - val_accuracy: 0.9048\nEpoch 9/20\n70/70 [==============================] - 11s 159ms/step - loss: 0.1145 - accuracy: 0.9585 - val_loss: 0.2255 - val_accuracy: 0.9093\nEpoch 10/20\n70/70 [==============================] - 12s 177ms/step - loss: 0.0931 - accuracy: 0.9600 - val_loss: 0.2350 - val_accuracy: 0.9127\nEpoch 11/20\n70/70 [==============================] - 13s 183ms/step - loss: 0.0875 - accuracy: 0.9603 - val_loss: 0.2344 - val_accuracy: 0.9115\nEpoch 12/20\n70/70 [==============================] - 11s 156ms/step - loss: 0.0791 - accuracy: 0.9677 - val_loss: 0.2225 - val_accuracy: 0.9082\nEpoch 13/20\n70/70 [==============================] - 11s 157ms/step - loss: 0.0671 - accuracy: 0.9726 - val_loss: 0.1963 - val_accuracy: 0.9205\nEpoch 14/20\n70/70 [==============================] - 11s 160ms/step - loss: 0.0590 - accuracy: 0.9749 - val_loss: 0.1920 - val_accuracy: 0.9250\nEpoch 15/20\n70/70 [==============================] - 12s 165ms/step - loss: 0.0628 - accuracy: 0.9752 - val_loss: 0.2023 - val_accuracy: 0.9239\nEpoch 16/20\n70/70 [==============================] - 11s 158ms/step - loss: 0.0488 - accuracy: 0.9790 - val_loss: 0.2026 - val_accuracy: 0.9261\nEpoch 17/20\n70/70 [==============================] - 11s 157ms/step - loss: 0.0519 - accuracy: 0.9807 - val_loss: 0.2203 - val_accuracy: 0.9239\nEpoch 18/20\n70/70 [==============================] - 11s 158ms/step - loss: 0.0481 - accuracy: 0.9813 - val_loss: 0.1893 - val_accuracy: 0.9418\nEpoch 19/20\n70/70 [==============================] - 11s 158ms/step - loss: 0.0578 - accuracy: 0.9772 - val_loss: 0.2070 - val_accuracy: 0.9261\nEpoch 20/20\n70/70 [==============================] - 13s 182ms/step - loss: 0.0394 - accuracy: 0.9847 - val_loss: 0.1786 - val_accuracy: 0.9384\n"
    },
    {
     "output_type": "execute_result",
     "data": {
      "text/plain": "<tensorflow.python.keras.callbacks.History at 0x21cc7776f48>"
     },
     "metadata": {},
     "execution_count": 18
    }
   ],
   "source": [
    "#fitting with image data augmentation\n",
    "data_generator_with_aug = ImageDataGenerator( horizontal_flip = True, validation_split=0.2)\n",
    "model_for_aug=model_normal()\n",
    "train_generator = data_generator_with_aug.flow(\n",
    "        x_train,y_train,batch_size=50\n",
    "        )\n",
    "model_for_aug.compile(loss='categorical_crossentropy',optimizer='adam',metrics=['accuracy'])\n",
    "model_for_aug.fit_generator(\n",
    "        train_generator,\n",
    "        epochs = 20,\n",
    "        steps_per_epoch=70,validation_data=(x_cv,y_cv))\n"
   ]
  },
  {
   "cell_type": "code",
   "execution_count": 41,
   "metadata": {},
   "outputs": [
    {
     "output_type": "execute_result",
     "data": {
      "text/plain": "0.9380542657659966"
     },
     "metadata": {},
     "execution_count": 41
    }
   ],
   "source": [
    "score_augmented=score(model_for_aug,x_cv,y_cv)\n",
    "score_augmented"
   ]
  },
  {
   "cell_type": "code",
   "execution_count": 42,
   "metadata": {},
   "outputs": [],
   "source": [
    "\n",
    "img_dir_test='./question_1_dataset/test/'\n",
    "total_imgs_test=len(glob.glob(img_dir_test+'/*.png'))\n",
    "fnames_test=['{}.png'.format(i) for i in range(total_imgs+1,total_imgs+total_imgs_test+1)]\n",
    "img_paths_test=[join(img_dir_test,filename) for filename in fnames_test]\n",
    "imgs_test=[load_img(img_path_test,target_size=(100,100)) for img_path_test in img_paths_test]\n",
    "img_array_test = np.array([img_to_array(img) for img in imgs_test])\n",
    "img_array_test=img_array_test/255\n",
    "\n"
   ]
  },
  {
   "cell_type": "code",
   "execution_count": 46,
   "metadata": {},
   "outputs": [],
   "source": [
    "x_test=img_array_test\n",
    "yhat=model_for_aug.predict(x)\n",
    "yhat_test=model_for_aug.predict(x_test)\n",
    "yhat_test=yhat_test.argmax(axis=1)+1\n",
    "yhat=yhat.argmax(axis=1)+1"
   ]
  },
  {
   "cell_type": "code",
   "execution_count": 47,
   "metadata": {},
   "outputs": [
    {
     "output_type": "execute_result",
     "data": {
      "text/plain": "(6379,)"
     },
     "metadata": {},
     "execution_count": 47
    }
   ],
   "source": [
    "y_final=np.hstack([yhat,yhat_test])\n",
    "y_final.shape"
   ]
  },
  {
   "cell_type": "code",
   "execution_count": 48,
   "metadata": {},
   "outputs": [],
   "source": [
    "import csv"
   ]
  },
  {
   "cell_type": "code",
   "execution_count": 49,
   "metadata": {},
   "outputs": [],
   "source": [
    "with open(\"./question_1_dataset/Testfinal.csv\",\"w\") as file:\n",
    "    writer=csv.writer(file)\n",
    "    for i in range(total_imgs):\n",
    "        writer.writerow([fnames[i],yhat[i]])\n",
    "    for i in range(total_imgs_test):\n",
    "        writer.writerow([fnames_test[i],yhat_test[i]])\n"
   ]
  },
  {
   "cell_type": "code",
   "execution_count": 50,
   "metadata": {},
   "outputs": [],
   "source": [
    "df=pd.read_csv('./question_1_dataset/Testfinal.csv')"
   ]
  },
  {
   "cell_type": "code",
   "execution_count": 51,
   "metadata": {},
   "outputs": [
    {
     "output_type": "execute_result",
     "data": {
      "text/plain": "         1.png   9\n0        2.png   3\n1        3.png   9\n2        4.png   8\n3        5.png  13\n4        6.png   7\n...        ...  ..\n6373  6375.png   8\n6374  6376.png  13\n6375  6377.png   7\n6376  6378.png   3\n6377  6379.png   7\n\n[6378 rows x 2 columns]",
      "text/html": "<div>\n<style scoped>\n    .dataframe tbody tr th:only-of-type {\n        vertical-align: middle;\n    }\n\n    .dataframe tbody tr th {\n        vertical-align: top;\n    }\n\n    .dataframe thead th {\n        text-align: right;\n    }\n</style>\n<table border=\"1\" class=\"dataframe\">\n  <thead>\n    <tr style=\"text-align: right;\">\n      <th></th>\n      <th>1.png</th>\n      <th>9</th>\n    </tr>\n  </thead>\n  <tbody>\n    <tr>\n      <th>0</th>\n      <td>2.png</td>\n      <td>3</td>\n    </tr>\n    <tr>\n      <th>1</th>\n      <td>3.png</td>\n      <td>9</td>\n    </tr>\n    <tr>\n      <th>2</th>\n      <td>4.png</td>\n      <td>8</td>\n    </tr>\n    <tr>\n      <th>3</th>\n      <td>5.png</td>\n      <td>13</td>\n    </tr>\n    <tr>\n      <th>4</th>\n      <td>6.png</td>\n      <td>7</td>\n    </tr>\n    <tr>\n      <th>...</th>\n      <td>...</td>\n      <td>...</td>\n    </tr>\n    <tr>\n      <th>6373</th>\n      <td>6375.png</td>\n      <td>8</td>\n    </tr>\n    <tr>\n      <th>6374</th>\n      <td>6376.png</td>\n      <td>13</td>\n    </tr>\n    <tr>\n      <th>6375</th>\n      <td>6377.png</td>\n      <td>7</td>\n    </tr>\n    <tr>\n      <th>6376</th>\n      <td>6378.png</td>\n      <td>3</td>\n    </tr>\n    <tr>\n      <th>6377</th>\n      <td>6379.png</td>\n      <td>7</td>\n    </tr>\n  </tbody>\n</table>\n<p>6378 rows × 2 columns</p>\n</div>"
     },
     "metadata": {},
     "execution_count": 51
    }
   ],
   "source": [
    "df"
   ]
  },
  {
   "cell_type": "code",
   "execution_count": null,
   "metadata": {},
   "outputs": [],
   "source": []
  }
 ],
 "metadata": {
  "kernelspec": {
   "display_name": "Python 3.7.4 64-bit",
   "language": "python",
   "name": "python_defaultSpec_1598359652018"
  },
  "language_info": {
   "codemirror_mode": {
    "name": "ipython",
    "version": 3
   },
   "file_extension": ".py",
   "mimetype": "text/x-python",
   "name": "python",
   "nbconvert_exporter": "python",
   "pygments_lexer": "ipython3",
   "version": "3.7.4-final"
  }
 },
 "nbformat": 4,
 "nbformat_minor": 4
}